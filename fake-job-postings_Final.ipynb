{
 "cells": [
  {
   "cell_type": "code",
   "execution_count": 1,
   "id": "b73bb78c",
   "metadata": {
    "_cell_guid": "b1076dfc-b9ad-4769-8c92-a6c4dae69d19",
    "_uuid": "8f2839f25d086af736a60e9eeb907d3b93b6e0e5",
    "execution": {
     "iopub.execute_input": "2022-04-30T16:15:35.708436Z",
     "iopub.status.busy": "2022-04-30T16:15:35.707708Z",
     "iopub.status.idle": "2022-04-30T16:15:37.463664Z",
     "shell.execute_reply": "2022-04-30T16:15:37.462556Z"
    },
    "id": "sim-bCcK3lap",
    "papermill": {
     "duration": 1.829468,
     "end_time": "2022-04-30T16:15:37.466394",
     "exception": false,
     "start_time": "2022-04-30T16:15:35.636926",
     "status": "completed"
    },
    "tags": []
   },
   "outputs": [],
   "source": [
    "#importing the library files\n",
    "import numpy as np \n",
    "import pandas as pd \n",
    "import re\n",
    "import nltk\n",
    "from nltk.corpus import stopwords\n",
    "\n"
   ]
  },
  {
   "cell_type": "code",
   "execution_count": 2,
   "id": "f2891be8",
   "metadata": {
    "_cell_guid": "79c7e3d0-c299-4dcb-8224-4455121ee9b0",
    "_uuid": "d629ff2d2480ee46fbb7e2d37f6b5fab8052498a",
    "execution": {
     "iopub.execute_input": "2022-04-30T16:15:37.581489Z",
     "iopub.status.busy": "2022-04-30T16:15:37.580790Z",
     "iopub.status.idle": "2022-04-30T16:15:37.590399Z",
     "shell.execute_reply": "2022-04-30T16:15:37.589577Z"
    },
    "id": "uhxWlU6N3lav",
    "papermill": {
     "duration": 0.067278,
     "end_time": "2022-04-30T16:15:37.592545",
     "exception": false,
     "start_time": "2022-04-30T16:15:37.525267",
     "status": "completed"
    },
    "tags": []
   },
   "outputs": [],
   "source": [
    "#importing the dataset\n",
    "\n",
    "import os\n",
    "for dirname, _, filenames in os.walk('/kaggle/input'):\n",
    "    for filename in filenames:\n",
    "        p=os.path.join(dirname, filename)"
   ]
  },
  {
   "cell_type": "code",
   "execution_count": 3,
   "id": "37743d70",
   "metadata": {
    "execution": {
     "iopub.execute_input": "2022-04-30T16:15:37.705546Z",
     "iopub.status.busy": "2022-04-30T16:15:37.704854Z",
     "iopub.status.idle": "2022-04-30T16:15:39.104037Z",
     "shell.execute_reply": "2022-04-30T16:15:39.103112Z"
    },
    "id": "WpGuAMe834Ck",
    "outputId": "88e7c276-f56d-4f72-fb5d-fdcb1b0cde63",
    "papermill": {
     "duration": 1.457558,
     "end_time": "2022-04-30T16:15:39.106611",
     "exception": false,
     "start_time": "2022-04-30T16:15:37.649053",
     "status": "completed"
    },
    "tags": []
   },
   "outputs": [
    {
     "data": {
      "text/html": [
       "<div>\n",
       "<style scoped>\n",
       "    .dataframe tbody tr th:only-of-type {\n",
       "        vertical-align: middle;\n",
       "    }\n",
       "\n",
       "    .dataframe tbody tr th {\n",
       "        vertical-align: top;\n",
       "    }\n",
       "\n",
       "    .dataframe thead th {\n",
       "        text-align: right;\n",
       "    }\n",
       "</style>\n",
       "<table border=\"1\" class=\"dataframe\">\n",
       "  <thead>\n",
       "    <tr style=\"text-align: right;\">\n",
       "      <th></th>\n",
       "      <th>job_id</th>\n",
       "      <th>title</th>\n",
       "      <th>location</th>\n",
       "      <th>department</th>\n",
       "      <th>salary_range</th>\n",
       "      <th>company_profile</th>\n",
       "      <th>description</th>\n",
       "      <th>requirements</th>\n",
       "      <th>benefits</th>\n",
       "      <th>telecommuting</th>\n",
       "      <th>has_company_logo</th>\n",
       "      <th>has_questions</th>\n",
       "      <th>employment_type</th>\n",
       "      <th>required_experience</th>\n",
       "      <th>required_education</th>\n",
       "      <th>industry</th>\n",
       "      <th>function</th>\n",
       "      <th>fraudulent</th>\n",
       "    </tr>\n",
       "  </thead>\n",
       "  <tbody>\n",
       "    <tr>\n",
       "      <th>0</th>\n",
       "      <td>1</td>\n",
       "      <td>Marketing Intern</td>\n",
       "      <td>US, NY, New York</td>\n",
       "      <td>Marketing</td>\n",
       "      <td>NaN</td>\n",
       "      <td>We're Food52, and we've created a groundbreaki...</td>\n",
       "      <td>Food52, a fast-growing, James Beard Award-winn...</td>\n",
       "      <td>Experience with content management systems a m...</td>\n",
       "      <td>NaN</td>\n",
       "      <td>0</td>\n",
       "      <td>1</td>\n",
       "      <td>0</td>\n",
       "      <td>Other</td>\n",
       "      <td>Internship</td>\n",
       "      <td>NaN</td>\n",
       "      <td>NaN</td>\n",
       "      <td>Marketing</td>\n",
       "      <td>0</td>\n",
       "    </tr>\n",
       "    <tr>\n",
       "      <th>1</th>\n",
       "      <td>2</td>\n",
       "      <td>Customer Service - Cloud Video Production</td>\n",
       "      <td>NZ, , Auckland</td>\n",
       "      <td>Success</td>\n",
       "      <td>NaN</td>\n",
       "      <td>90 Seconds, the worlds Cloud Video Production ...</td>\n",
       "      <td>Organised - Focused - Vibrant - Awesome!Do you...</td>\n",
       "      <td>What we expect from you:Your key responsibilit...</td>\n",
       "      <td>What you will get from usThrough being part of...</td>\n",
       "      <td>0</td>\n",
       "      <td>1</td>\n",
       "      <td>0</td>\n",
       "      <td>Full-time</td>\n",
       "      <td>Not Applicable</td>\n",
       "      <td>NaN</td>\n",
       "      <td>Marketing and Advertising</td>\n",
       "      <td>Customer Service</td>\n",
       "      <td>0</td>\n",
       "    </tr>\n",
       "    <tr>\n",
       "      <th>2</th>\n",
       "      <td>3</td>\n",
       "      <td>Commissioning Machinery Assistant (CMA)</td>\n",
       "      <td>US, IA, Wever</td>\n",
       "      <td>NaN</td>\n",
       "      <td>NaN</td>\n",
       "      <td>Valor Services provides Workforce Solutions th...</td>\n",
       "      <td>Our client, located in Houston, is actively se...</td>\n",
       "      <td>Implement pre-commissioning and commissioning ...</td>\n",
       "      <td>NaN</td>\n",
       "      <td>0</td>\n",
       "      <td>1</td>\n",
       "      <td>0</td>\n",
       "      <td>NaN</td>\n",
       "      <td>NaN</td>\n",
       "      <td>NaN</td>\n",
       "      <td>NaN</td>\n",
       "      <td>NaN</td>\n",
       "      <td>0</td>\n",
       "    </tr>\n",
       "    <tr>\n",
       "      <th>3</th>\n",
       "      <td>4</td>\n",
       "      <td>Account Executive - Washington DC</td>\n",
       "      <td>US, DC, Washington</td>\n",
       "      <td>Sales</td>\n",
       "      <td>NaN</td>\n",
       "      <td>Our passion for improving quality of life thro...</td>\n",
       "      <td>THE COMPANY: ESRI – Environmental Systems Rese...</td>\n",
       "      <td>EDUCATION: Bachelor’s or Master’s in GIS, busi...</td>\n",
       "      <td>Our culture is anything but corporate—we have ...</td>\n",
       "      <td>0</td>\n",
       "      <td>1</td>\n",
       "      <td>0</td>\n",
       "      <td>Full-time</td>\n",
       "      <td>Mid-Senior level</td>\n",
       "      <td>Bachelor's Degree</td>\n",
       "      <td>Computer Software</td>\n",
       "      <td>Sales</td>\n",
       "      <td>0</td>\n",
       "    </tr>\n",
       "    <tr>\n",
       "      <th>4</th>\n",
       "      <td>5</td>\n",
       "      <td>Bill Review Manager</td>\n",
       "      <td>US, FL, Fort Worth</td>\n",
       "      <td>NaN</td>\n",
       "      <td>NaN</td>\n",
       "      <td>SpotSource Solutions LLC is a Global Human Cap...</td>\n",
       "      <td>JOB TITLE: Itemization Review ManagerLOCATION:...</td>\n",
       "      <td>QUALIFICATIONS:RN license in the State of Texa...</td>\n",
       "      <td>Full Benefits Offered</td>\n",
       "      <td>0</td>\n",
       "      <td>1</td>\n",
       "      <td>1</td>\n",
       "      <td>Full-time</td>\n",
       "      <td>Mid-Senior level</td>\n",
       "      <td>Bachelor's Degree</td>\n",
       "      <td>Hospital &amp; Health Care</td>\n",
       "      <td>Health Care Provider</td>\n",
       "      <td>0</td>\n",
       "    </tr>\n",
       "  </tbody>\n",
       "</table>\n",
       "</div>"
      ],
      "text/plain": [
       "   job_id                                      title            location  \\\n",
       "0       1                           Marketing Intern    US, NY, New York   \n",
       "1       2  Customer Service - Cloud Video Production      NZ, , Auckland   \n",
       "2       3    Commissioning Machinery Assistant (CMA)       US, IA, Wever   \n",
       "3       4          Account Executive - Washington DC  US, DC, Washington   \n",
       "4       5                        Bill Review Manager  US, FL, Fort Worth   \n",
       "\n",
       "  department salary_range                                    company_profile  \\\n",
       "0  Marketing          NaN  We're Food52, and we've created a groundbreaki...   \n",
       "1    Success          NaN  90 Seconds, the worlds Cloud Video Production ...   \n",
       "2        NaN          NaN  Valor Services provides Workforce Solutions th...   \n",
       "3      Sales          NaN  Our passion for improving quality of life thro...   \n",
       "4        NaN          NaN  SpotSource Solutions LLC is a Global Human Cap...   \n",
       "\n",
       "                                         description  \\\n",
       "0  Food52, a fast-growing, James Beard Award-winn...   \n",
       "1  Organised - Focused - Vibrant - Awesome!Do you...   \n",
       "2  Our client, located in Houston, is actively se...   \n",
       "3  THE COMPANY: ESRI – Environmental Systems Rese...   \n",
       "4  JOB TITLE: Itemization Review ManagerLOCATION:...   \n",
       "\n",
       "                                        requirements  \\\n",
       "0  Experience with content management systems a m...   \n",
       "1  What we expect from you:Your key responsibilit...   \n",
       "2  Implement pre-commissioning and commissioning ...   \n",
       "3  EDUCATION: Bachelor’s or Master’s in GIS, busi...   \n",
       "4  QUALIFICATIONS:RN license in the State of Texa...   \n",
       "\n",
       "                                            benefits  telecommuting  \\\n",
       "0                                                NaN              0   \n",
       "1  What you will get from usThrough being part of...              0   \n",
       "2                                                NaN              0   \n",
       "3  Our culture is anything but corporate—we have ...              0   \n",
       "4                              Full Benefits Offered              0   \n",
       "\n",
       "   has_company_logo  has_questions employment_type required_experience  \\\n",
       "0                 1              0           Other          Internship   \n",
       "1                 1              0       Full-time      Not Applicable   \n",
       "2                 1              0             NaN                 NaN   \n",
       "3                 1              0       Full-time    Mid-Senior level   \n",
       "4                 1              1       Full-time    Mid-Senior level   \n",
       "\n",
       "  required_education                   industry              function  \\\n",
       "0                NaN                        NaN             Marketing   \n",
       "1                NaN  Marketing and Advertising      Customer Service   \n",
       "2                NaN                        NaN                   NaN   \n",
       "3  Bachelor's Degree          Computer Software                 Sales   \n",
       "4  Bachelor's Degree     Hospital & Health Care  Health Care Provider   \n",
       "\n",
       "   fraudulent  \n",
       "0           0  \n",
       "1           0  \n",
       "2           0  \n",
       "3           0  \n",
       "4           0  "
      ]
     },
     "execution_count": 3,
     "metadata": {},
     "output_type": "execute_result"
    }
   ],
   "source": [
    "df = pd.read_csv(p)\n",
    "df.head()\n"
   ]
  },
  {
   "cell_type": "code",
   "execution_count": 4,
   "id": "d307320d",
   "metadata": {
    "execution": {
     "iopub.execute_input": "2022-04-30T16:15:39.221817Z",
     "iopub.status.busy": "2022-04-30T16:15:39.221511Z",
     "iopub.status.idle": "2022-04-30T16:15:39.227574Z",
     "shell.execute_reply": "2022-04-30T16:15:39.226943Z"
    },
    "id": "cBhzaN7b3law",
    "outputId": "46aaa826-eeac-441d-d4a3-c4f3d4702f91",
    "papermill": {
     "duration": 0.067294,
     "end_time": "2022-04-30T16:15:39.229233",
     "exception": false,
     "start_time": "2022-04-30T16:15:39.161939",
     "status": "completed"
    },
    "tags": []
   },
   "outputs": [
    {
     "data": {
      "text/plain": [
       "Index(['job_id', 'title', 'location', 'department', 'salary_range',\n",
       "       'company_profile', 'description', 'requirements', 'benefits',\n",
       "       'telecommuting', 'has_company_logo', 'has_questions', 'employment_type',\n",
       "       'required_experience', 'required_education', 'industry', 'function',\n",
       "       'fraudulent'],\n",
       "      dtype='object')"
      ]
     },
     "execution_count": 4,
     "metadata": {},
     "output_type": "execute_result"
    }
   ],
   "source": [
    "df.columns"
   ]
  },
  {
   "cell_type": "code",
   "execution_count": 5,
   "id": "6b3b053c",
   "metadata": {
    "execution": {
     "iopub.execute_input": "2022-04-30T16:15:39.341380Z",
     "iopub.status.busy": "2022-04-30T16:15:39.340828Z",
     "iopub.status.idle": "2022-04-30T16:15:39.353936Z",
     "shell.execute_reply": "2022-04-30T16:15:39.353320Z"
    },
    "papermill": {
     "duration": 0.071937,
     "end_time": "2022-04-30T16:15:39.356065",
     "exception": false,
     "start_time": "2022-04-30T16:15:39.284128",
     "status": "completed"
    },
    "tags": []
   },
   "outputs": [],
   "source": [
    "real_jobs = df['fraudulent'].value_counts()[0]\n",
    "fake_jobs = df['fraudulent'].value_counts()[1]"
   ]
  },
  {
   "cell_type": "code",
   "execution_count": 6,
   "id": "9d5cbfb3",
   "metadata": {
    "execution": {
     "iopub.execute_input": "2022-04-30T16:15:39.467015Z",
     "iopub.status.busy": "2022-04-30T16:15:39.466459Z",
     "iopub.status.idle": "2022-04-30T16:15:39.471358Z",
     "shell.execute_reply": "2022-04-30T16:15:39.470736Z"
    },
    "papermill": {
     "duration": 0.062289,
     "end_time": "2022-04-30T16:15:39.473246",
     "exception": false,
     "start_time": "2022-04-30T16:15:39.410957",
     "status": "completed"
    },
    "tags": []
   },
   "outputs": [
    {
     "data": {
      "text/plain": [
       "17014"
      ]
     },
     "execution_count": 6,
     "metadata": {},
     "output_type": "execute_result"
    }
   ],
   "source": [
    "real_jobs"
   ]
  },
  {
   "cell_type": "code",
   "execution_count": 7,
   "id": "ca2ff202",
   "metadata": {
    "execution": {
     "iopub.execute_input": "2022-04-30T16:15:39.583187Z",
     "iopub.status.busy": "2022-04-30T16:15:39.582660Z",
     "iopub.status.idle": "2022-04-30T16:15:39.587811Z",
     "shell.execute_reply": "2022-04-30T16:15:39.587026Z"
    },
    "papermill": {
     "duration": 0.062236,
     "end_time": "2022-04-30T16:15:39.589877",
     "exception": false,
     "start_time": "2022-04-30T16:15:39.527641",
     "status": "completed"
    },
    "tags": []
   },
   "outputs": [
    {
     "data": {
      "text/plain": [
       "866"
      ]
     },
     "execution_count": 7,
     "metadata": {},
     "output_type": "execute_result"
    }
   ],
   "source": [
    "fake_jobs"
   ]
  },
  {
   "cell_type": "code",
   "execution_count": 8,
   "id": "ceeb3fff",
   "metadata": {
    "execution": {
     "iopub.execute_input": "2022-04-30T16:15:39.700055Z",
     "iopub.status.busy": "2022-04-30T16:15:39.699768Z",
     "iopub.status.idle": "2022-04-30T16:15:39.899487Z",
     "shell.execute_reply": "2022-04-30T16:15:39.898561Z"
    },
    "papermill": {
     "duration": 0.257566,
     "end_time": "2022-04-30T16:15:39.901834",
     "exception": false,
     "start_time": "2022-04-30T16:15:39.644268",
     "status": "completed"
    },
    "tags": []
   },
   "outputs": [
    {
     "data": {
      "image/png": "[encoded data removed]",
      "text/plain": [
       "<Figure size 432x288 with 1 Axes>"
      ]
     },
     "metadata": {
      "needs_background": "light"
     },
     "output_type": "display_data"
    }
   ],
   "source": [
    "import matplotlib.pyplot as plt\n",
    "   \n",
    "labels = ['Real Jobs','Fake jobs']\n",
    "job = [real_jobs,fake_jobs]\n",
    "\n",
    "plt.bar(labels,job)\n",
    "plt.title('job numbers')\n",
    "plt.xlabel('Job labels')\n",
    "plt.ylabel('job count')\n",
    "plt.show()"
   ]
  },
  {
   "cell_type": "code",
   "execution_count": 9,
   "id": "93fd112e",
   "metadata": {
    "execution": {
     "iopub.execute_input": "2022-04-30T16:15:40.014686Z",
     "iopub.status.busy": "2022-04-30T16:15:40.014187Z",
     "iopub.status.idle": "2022-04-30T16:15:40.046867Z",
     "shell.execute_reply": "2022-04-30T16:15:40.046169Z"
    },
    "id": "B-30x5zd3lax",
    "outputId": "e5bd8d32-2782-4cbe-c6d2-7d304a604e41",
    "papermill": {
     "duration": 0.091636,
     "end_time": "2022-04-30T16:15:40.048679",
     "exception": false,
     "start_time": "2022-04-30T16:15:39.957043",
     "status": "completed"
    },
    "tags": []
   },
   "outputs": [
    {
     "data": {
      "text/plain": [
       "job_id                     0\n",
       "title                      0\n",
       "location                 346\n",
       "department             11547\n",
       "salary_range           15012\n",
       "company_profile         3308\n",
       "description                1\n",
       "requirements            2695\n",
       "benefits                7210\n",
       "telecommuting              0\n",
       "has_company_logo           0\n",
       "has_questions              0\n",
       "employment_type         3471\n",
       "required_experience     7050\n",
       "required_education      8105\n",
       "industry                4903\n",
       "function                6455\n",
       "fraudulent                 0\n",
       "dtype: int64"
      ]
     },
     "execution_count": 9,
     "metadata": {},
     "output_type": "execute_result"
    }
   ],
   "source": [
    "#sum of null values\n",
    "df.isnull().sum()"
   ]
  },
  {
   "cell_type": "code",
   "execution_count": 10,
   "id": "5391bd73",
   "metadata": {
    "execution": {
     "iopub.execute_input": "2022-04-30T16:15:40.162492Z",
     "iopub.status.busy": "2022-04-30T16:15:40.161720Z",
     "iopub.status.idle": "2022-04-30T16:15:40.370428Z",
     "shell.execute_reply": "2022-04-30T16:15:40.369437Z"
    },
    "papermill": {
     "duration": 0.267879,
     "end_time": "2022-04-30T16:15:40.372864",
     "exception": false,
     "start_time": "2022-04-30T16:15:40.104985",
     "status": "completed"
    },
    "tags": []
   },
   "outputs": [],
   "source": [
    "df['data']=df['title'] + ' ' + df['location'] + ' ' + df['department'] + ' ' + df['company_profile'] + ' ' + df['description'] + ' ' + df['requirements'] + ' ' +df['benefits'] + ' ' + df['employment_type'] + ' ' + df['required_education'] + ' ' + df['industry'] + ' ' +df['function'] "
   ]
  },
  {
   "cell_type": "code",
   "execution_count": 11,
   "id": "ec4b2bc6",
   "metadata": {
    "execution": {
     "iopub.execute_input": "2022-04-30T16:15:40.489144Z",
     "iopub.status.busy": "2022-04-30T16:15:40.488869Z",
     "iopub.status.idle": "2022-04-30T16:15:40.493133Z",
     "shell.execute_reply": "2022-04-30T16:15:40.492505Z"
    },
    "id": "KwbNtaBX3lay",
    "papermill": {
     "duration": 0.065114,
     "end_time": "2022-04-30T16:15:40.494973",
     "exception": false,
     "start_time": "2022-04-30T16:15:40.429859",
     "status": "completed"
    },
    "tags": []
   },
   "outputs": [],
   "source": [
    "#delete the columns with null values\n",
    "del_cols=['job_id','location','department','salary_range','description','title','company_profile','benefits','requirements']"
   ]
  },
  {
   "cell_type": "code",
   "execution_count": 12,
   "id": "7f9542c8",
   "metadata": {
    "execution": {
     "iopub.execute_input": "2022-04-30T16:15:40.610089Z",
     "iopub.status.busy": "2022-04-30T16:15:40.609317Z",
     "iopub.status.idle": "2022-04-30T16:15:40.624969Z",
     "shell.execute_reply": "2022-04-30T16:15:40.623924Z"
    },
    "id": "-wGfb5kR3lay",
    "papermill": {
     "duration": 0.074991,
     "end_time": "2022-04-30T16:15:40.627318",
     "exception": false,
     "start_time": "2022-04-30T16:15:40.552327",
     "status": "completed"
    },
    "tags": []
   },
   "outputs": [],
   "source": [
    "df=df.drop(del_cols,axis=1)"
   ]
  },
  {
   "cell_type": "code",
   "execution_count": 13,
   "id": "d7d29d83",
   "metadata": {
    "execution": {
     "iopub.execute_input": "2022-04-30T16:15:40.741221Z",
     "iopub.status.busy": "2022-04-30T16:15:40.740418Z",
     "iopub.status.idle": "2022-04-30T16:15:40.759919Z",
     "shell.execute_reply": "2022-04-30T16:15:40.759354Z"
    },
    "id": "qZJSBqcZ3laz",
    "outputId": "45a3d5a1-03bc-4f28-da05-0c336b29e788",
    "papermill": {
     "duration": 0.078892,
     "end_time": "2022-04-30T16:15:40.761643",
     "exception": false,
     "start_time": "2022-04-30T16:15:40.682751",
     "status": "completed"
    },
    "tags": []
   },
   "outputs": [
    {
     "data": {
      "text/html": [
       "<div>\n",
       "<style scoped>\n",
       "    .dataframe tbody tr th:only-of-type {\n",
       "        vertical-align: middle;\n",
       "    }\n",
       "\n",
       "    .dataframe tbody tr th {\n",
       "        vertical-align: top;\n",
       "    }\n",
       "\n",
       "    .dataframe thead th {\n",
       "        text-align: right;\n",
       "    }\n",
       "</style>\n",
       "<table border=\"1\" class=\"dataframe\">\n",
       "  <thead>\n",
       "    <tr style=\"text-align: right;\">\n",
       "      <th></th>\n",
       "      <th>telecommuting</th>\n",
       "      <th>has_company_logo</th>\n",
       "      <th>has_questions</th>\n",
       "      <th>employment_type</th>\n",
       "      <th>required_experience</th>\n",
       "      <th>required_education</th>\n",
       "      <th>industry</th>\n",
       "      <th>function</th>\n",
       "      <th>fraudulent</th>\n",
       "      <th>data</th>\n",
       "    </tr>\n",
       "  </thead>\n",
       "  <tbody>\n",
       "    <tr>\n",
       "      <th>0</th>\n",
       "      <td>0</td>\n",
       "      <td>1</td>\n",
       "      <td>0</td>\n",
       "      <td>Other</td>\n",
       "      <td>Internship</td>\n",
       "      <td>NaN</td>\n",
       "      <td>NaN</td>\n",
       "      <td>Marketing</td>\n",
       "      <td>0</td>\n",
       "      <td>NaN</td>\n",
       "    </tr>\n",
       "    <tr>\n",
       "      <th>1</th>\n",
       "      <td>0</td>\n",
       "      <td>1</td>\n",
       "      <td>0</td>\n",
       "      <td>Full-time</td>\n",
       "      <td>Not Applicable</td>\n",
       "      <td>NaN</td>\n",
       "      <td>Marketing and Advertising</td>\n",
       "      <td>Customer Service</td>\n",
       "      <td>0</td>\n",
       "      <td>NaN</td>\n",
       "    </tr>\n",
       "    <tr>\n",
       "      <th>2</th>\n",
       "      <td>0</td>\n",
       "      <td>1</td>\n",
       "      <td>0</td>\n",
       "      <td>NaN</td>\n",
       "      <td>NaN</td>\n",
       "      <td>NaN</td>\n",
       "      <td>NaN</td>\n",
       "      <td>NaN</td>\n",
       "      <td>0</td>\n",
       "      <td>NaN</td>\n",
       "    </tr>\n",
       "    <tr>\n",
       "      <th>3</th>\n",
       "      <td>0</td>\n",
       "      <td>1</td>\n",
       "      <td>0</td>\n",
       "      <td>Full-time</td>\n",
       "      <td>Mid-Senior level</td>\n",
       "      <td>Bachelor's Degree</td>\n",
       "      <td>Computer Software</td>\n",
       "      <td>Sales</td>\n",
       "      <td>0</td>\n",
       "      <td>Account Executive - Washington DC US, DC, Wash...</td>\n",
       "    </tr>\n",
       "    <tr>\n",
       "      <th>4</th>\n",
       "      <td>0</td>\n",
       "      <td>1</td>\n",
       "      <td>1</td>\n",
       "      <td>Full-time</td>\n",
       "      <td>Mid-Senior level</td>\n",
       "      <td>Bachelor's Degree</td>\n",
       "      <td>Hospital &amp; Health Care</td>\n",
       "      <td>Health Care Provider</td>\n",
       "      <td>0</td>\n",
       "      <td>NaN</td>\n",
       "    </tr>\n",
       "    <tr>\n",
       "      <th>...</th>\n",
       "      <td>...</td>\n",
       "      <td>...</td>\n",
       "      <td>...</td>\n",
       "      <td>...</td>\n",
       "      <td>...</td>\n",
       "      <td>...</td>\n",
       "      <td>...</td>\n",
       "      <td>...</td>\n",
       "      <td>...</td>\n",
       "      <td>...</td>\n",
       "    </tr>\n",
       "    <tr>\n",
       "      <th>17875</th>\n",
       "      <td>0</td>\n",
       "      <td>1</td>\n",
       "      <td>1</td>\n",
       "      <td>Full-time</td>\n",
       "      <td>Mid-Senior level</td>\n",
       "      <td>NaN</td>\n",
       "      <td>Computer Software</td>\n",
       "      <td>Sales</td>\n",
       "      <td>0</td>\n",
       "      <td>NaN</td>\n",
       "    </tr>\n",
       "    <tr>\n",
       "      <th>17876</th>\n",
       "      <td>0</td>\n",
       "      <td>1</td>\n",
       "      <td>1</td>\n",
       "      <td>Full-time</td>\n",
       "      <td>Mid-Senior level</td>\n",
       "      <td>Bachelor's Degree</td>\n",
       "      <td>Internet</td>\n",
       "      <td>Accounting/Auditing</td>\n",
       "      <td>0</td>\n",
       "      <td>Payroll Accountant US, PA, Philadelphia Accoun...</td>\n",
       "    </tr>\n",
       "    <tr>\n",
       "      <th>17877</th>\n",
       "      <td>0</td>\n",
       "      <td>0</td>\n",
       "      <td>0</td>\n",
       "      <td>Full-time</td>\n",
       "      <td>NaN</td>\n",
       "      <td>NaN</td>\n",
       "      <td>NaN</td>\n",
       "      <td>NaN</td>\n",
       "      <td>0</td>\n",
       "      <td>NaN</td>\n",
       "    </tr>\n",
       "    <tr>\n",
       "      <th>17878</th>\n",
       "      <td>0</td>\n",
       "      <td>0</td>\n",
       "      <td>1</td>\n",
       "      <td>Contract</td>\n",
       "      <td>Not Applicable</td>\n",
       "      <td>Professional</td>\n",
       "      <td>Graphic Design</td>\n",
       "      <td>Design</td>\n",
       "      <td>0</td>\n",
       "      <td>NaN</td>\n",
       "    </tr>\n",
       "    <tr>\n",
       "      <th>17879</th>\n",
       "      <td>0</td>\n",
       "      <td>1</td>\n",
       "      <td>1</td>\n",
       "      <td>Full-time</td>\n",
       "      <td>Mid-Senior level</td>\n",
       "      <td>NaN</td>\n",
       "      <td>Computer Software</td>\n",
       "      <td>Engineering</td>\n",
       "      <td>0</td>\n",
       "      <td>NaN</td>\n",
       "    </tr>\n",
       "  </tbody>\n",
       "</table>\n",
       "<p>17880 rows × 10 columns</p>\n",
       "</div>"
      ],
      "text/plain": [
       "       telecommuting  has_company_logo  has_questions employment_type  \\\n",
       "0                  0                 1              0           Other   \n",
       "1                  0                 1              0       Full-time   \n",
       "2                  0                 1              0             NaN   \n",
       "3                  0                 1              0       Full-time   \n",
       "4                  0                 1              1       Full-time   \n",
       "...              ...               ...            ...             ...   \n",
       "17875              0                 1              1       Full-time   \n",
       "17876              0                 1              1       Full-time   \n",
       "17877              0                 0              0       Full-time   \n",
       "17878              0                 0              1        Contract   \n",
       "17879              0                 1              1       Full-time   \n",
       "\n",
       "      required_experience required_education                   industry  \\\n",
       "0              Internship                NaN                        NaN   \n",
       "1          Not Applicable                NaN  Marketing and Advertising   \n",
       "2                     NaN                NaN                        NaN   \n",
       "3        Mid-Senior level  Bachelor's Degree          Computer Software   \n",
       "4        Mid-Senior level  Bachelor's Degree     Hospital & Health Care   \n",
       "...                   ...                ...                        ...   \n",
       "17875    Mid-Senior level                NaN          Computer Software   \n",
       "17876    Mid-Senior level  Bachelor's Degree                   Internet   \n",
       "17877                 NaN                NaN                        NaN   \n",
       "17878      Not Applicable       Professional             Graphic Design   \n",
       "17879    Mid-Senior level                NaN          Computer Software   \n",
       "\n",
       "                   function  fraudulent  \\\n",
       "0                 Marketing           0   \n",
       "1          Customer Service           0   \n",
       "2                       NaN           0   \n",
       "3                     Sales           0   \n",
       "4      Health Care Provider           0   \n",
       "...                     ...         ...   \n",
       "17875                 Sales           0   \n",
       "17876   Accounting/Auditing           0   \n",
       "17877                   NaN           0   \n",
       "17878                Design           0   \n",
       "17879           Engineering           0   \n",
       "\n",
       "                                                    data  \n",
       "0                                                    NaN  \n",
       "1                                                    NaN  \n",
       "2                                                    NaN  \n",
       "3      Account Executive - Washington DC US, DC, Wash...  \n",
       "4                                                    NaN  \n",
       "...                                                  ...  \n",
       "17875                                                NaN  \n",
       "17876  Payroll Accountant US, PA, Philadelphia Accoun...  \n",
       "17877                                                NaN  \n",
       "17878                                                NaN  \n",
       "17879                                                NaN  \n",
       "\n",
       "[17880 rows x 10 columns]"
      ]
     },
     "execution_count": 13,
     "metadata": {},
     "output_type": "execute_result"
    }
   ],
   "source": [
    "df"
   ]
  },
  {
   "cell_type": "code",
   "execution_count": 14,
   "id": "3a340f7f",
   "metadata": {
    "execution": {
     "iopub.execute_input": "2022-04-30T16:15:40.877435Z",
     "iopub.status.busy": "2022-04-30T16:15:40.876661Z",
     "iopub.status.idle": "2022-04-30T16:15:40.887649Z",
     "shell.execute_reply": "2022-04-30T16:15:40.886836Z"
    },
    "papermill": {
     "duration": 0.070789,
     "end_time": "2022-04-30T16:15:40.889808",
     "exception": false,
     "start_time": "2022-04-30T16:15:40.819019",
     "status": "completed"
    },
    "tags": []
   },
   "outputs": [],
   "source": [
    "stop = set(stopwords.words('english'))"
   ]
  },
  {
   "cell_type": "code",
   "execution_count": 15,
   "id": "9133396a",
   "metadata": {
    "execution": {
     "iopub.execute_input": "2022-04-30T16:15:41.004250Z",
     "iopub.status.busy": "2022-04-30T16:15:41.003734Z",
     "iopub.status.idle": "2022-04-30T16:15:41.007507Z",
     "shell.execute_reply": "2022-04-30T16:15:41.006811Z"
    },
    "id": "LUi08_Kh3laz",
    "papermill": {
     "duration": 0.063241,
     "end_time": "2022-04-30T16:15:41.009374",
     "exception": false,
     "start_time": "2022-04-30T16:15:40.946133",
     "status": "completed"
    },
    "tags": []
   },
   "outputs": [],
   "source": [
    "col_list=list(df.columns)"
   ]
  },
  {
   "cell_type": "code",
   "execution_count": 16,
   "id": "1ddc083e",
   "metadata": {
    "execution": {
     "iopub.execute_input": "2022-04-30T16:15:41.125261Z",
     "iopub.status.busy": "2022-04-30T16:15:41.124755Z",
     "iopub.status.idle": "2022-04-30T16:15:41.128246Z",
     "shell.execute_reply": "2022-04-30T16:15:41.127611Z"
    },
    "id": "Wo7JM5tl3la0",
    "papermill": {
     "duration": 0.064036,
     "end_time": "2022-04-30T16:15:41.130105",
     "exception": false,
     "start_time": "2022-04-30T16:15:41.066069",
     "status": "completed"
    },
    "tags": []
   },
   "outputs": [],
   "source": [
    "#label encoding\n",
    "from sklearn.preprocessing import LabelEncoder\n",
    "le=LabelEncoder()\n"
   ]
  },
  {
   "cell_type": "code",
   "execution_count": 17,
   "id": "dad277cb",
   "metadata": {
    "execution": {
     "iopub.execute_input": "2022-04-30T16:15:41.244533Z",
     "iopub.status.busy": "2022-04-30T16:15:41.244196Z",
     "iopub.status.idle": "2022-04-30T16:15:41.284859Z",
     "shell.execute_reply": "2022-04-30T16:15:41.283778Z"
    },
    "id": "x8NmbXWl3la1",
    "papermill": {
     "duration": 0.100327,
     "end_time": "2022-04-30T16:15:41.286927",
     "exception": false,
     "start_time": "2022-04-30T16:15:41.186600",
     "status": "completed"
    },
    "tags": []
   },
   "outputs": [],
   "source": [
    "#replacing null values\n",
    "for i in col_list:\n",
    "    if df[i].dtype=='object':\n",
    "        df[i]=df[i].replace(np.nan,df[i].mode()[0],regex=True)\n",
    "    "
   ]
  },
  {
   "cell_type": "code",
   "execution_count": 18,
   "id": "568a2e7b",
   "metadata": {
    "execution": {
     "iopub.execute_input": "2022-04-30T16:15:41.401505Z",
     "iopub.status.busy": "2022-04-30T16:15:41.400957Z",
     "iopub.status.idle": "2022-04-30T16:15:41.420610Z",
     "shell.execute_reply": "2022-04-30T16:15:41.420023Z"
    },
    "id": "AU0dFBo-3la1",
    "outputId": "9f2f873c-16d3-4213-8b40-33cd29f0cff8",
    "papermill": {
     "duration": 0.078823,
     "end_time": "2022-04-30T16:15:41.422382",
     "exception": false,
     "start_time": "2022-04-30T16:15:41.343559",
     "status": "completed"
    },
    "tags": []
   },
   "outputs": [
    {
     "data": {
      "text/plain": [
       "telecommuting          0\n",
       "has_company_logo       0\n",
       "has_questions          0\n",
       "employment_type        0\n",
       "required_experience    0\n",
       "required_education     0\n",
       "industry               0\n",
       "function               0\n",
       "fraudulent             0\n",
       "data                   0\n",
       "dtype: int64"
      ]
     },
     "execution_count": 18,
     "metadata": {},
     "output_type": "execute_result"
    }
   ],
   "source": [
    "df.isnull().sum()"
   ]
  },
  {
   "cell_type": "code",
   "execution_count": 19,
   "id": "c6e3b141",
   "metadata": {
    "execution": {
     "iopub.execute_input": "2022-04-30T16:15:41.538393Z",
     "iopub.status.busy": "2022-04-30T16:15:41.537547Z",
     "iopub.status.idle": "2022-04-30T16:15:41.541282Z",
     "shell.execute_reply": "2022-04-30T16:15:41.540737Z"
    },
    "id": "tPrU6jM33la2",
    "papermill": {
     "duration": 0.063949,
     "end_time": "2022-04-30T16:15:41.543095",
     "exception": false,
     "start_time": "2022-04-30T16:15:41.479146",
     "status": "completed"
    },
    "tags": []
   },
   "outputs": [],
   "source": [
    "#lab encoding converting label into numerical format\n",
    "from sklearn.preprocessing import LabelEncoder\n",
    "le=LabelEncoder()"
   ]
  },
  {
   "cell_type": "code",
   "execution_count": 20,
   "id": "8757f77f",
   "metadata": {
    "execution": {
     "iopub.execute_input": "2022-04-30T16:15:41.658738Z",
     "iopub.status.busy": "2022-04-30T16:15:41.657878Z",
     "iopub.status.idle": "2022-04-30T16:15:41.703944Z",
     "shell.execute_reply": "2022-04-30T16:15:41.702826Z"
    },
    "id": "gVHKGigl3la2",
    "papermill": {
     "duration": 0.106748,
     "end_time": "2022-04-30T16:15:41.706421",
     "exception": false,
     "start_time": "2022-04-30T16:15:41.599673",
     "status": "completed"
    },
    "tags": []
   },
   "outputs": [],
   "source": [
    "for i in col_list:\n",
    "    if df[i].dtype=='object':\n",
    "        df[i]=le.fit_transform(df[i])"
   ]
  },
  {
   "cell_type": "code",
   "execution_count": 21,
   "id": "f07ba1e4",
   "metadata": {
    "execution": {
     "iopub.execute_input": "2022-04-30T16:15:41.822542Z",
     "iopub.status.busy": "2022-04-30T16:15:41.821769Z",
     "iopub.status.idle": "2022-04-30T16:15:41.836964Z",
     "shell.execute_reply": "2022-04-30T16:15:41.836364Z"
    },
    "id": "xcH7B_DC3la3",
    "outputId": "24c4d92f-d961-461a-ece9-bd56a05df78f",
    "papermill": {
     "duration": 0.075195,
     "end_time": "2022-04-30T16:15:41.838680",
     "exception": false,
     "start_time": "2022-04-30T16:15:41.763485",
     "status": "completed"
    },
    "tags": []
   },
   "outputs": [
    {
     "data": {
      "text/html": [
       "<div>\n",
       "<style scoped>\n",
       "    .dataframe tbody tr th:only-of-type {\n",
       "        vertical-align: middle;\n",
       "    }\n",
       "\n",
       "    .dataframe tbody tr th {\n",
       "        vertical-align: top;\n",
       "    }\n",
       "\n",
       "    .dataframe thead th {\n",
       "        text-align: right;\n",
       "    }\n",
       "</style>\n",
       "<table border=\"1\" class=\"dataframe\">\n",
       "  <thead>\n",
       "    <tr style=\"text-align: right;\">\n",
       "      <th></th>\n",
       "      <th>telecommuting</th>\n",
       "      <th>has_company_logo</th>\n",
       "      <th>has_questions</th>\n",
       "      <th>employment_type</th>\n",
       "      <th>required_experience</th>\n",
       "      <th>required_education</th>\n",
       "      <th>industry</th>\n",
       "      <th>function</th>\n",
       "      <th>fraudulent</th>\n",
       "      <th>data</th>\n",
       "    </tr>\n",
       "  </thead>\n",
       "  <tbody>\n",
       "    <tr>\n",
       "      <th>0</th>\n",
       "      <td>0</td>\n",
       "      <td>1</td>\n",
       "      <td>0</td>\n",
       "      <td>2</td>\n",
       "      <td>4</td>\n",
       "      <td>1</td>\n",
       "      <td>58</td>\n",
       "      <td>22</td>\n",
       "      <td>0</td>\n",
       "      <td>2074</td>\n",
       "    </tr>\n",
       "    <tr>\n",
       "      <th>1</th>\n",
       "      <td>0</td>\n",
       "      <td>1</td>\n",
       "      <td>0</td>\n",
       "      <td>1</td>\n",
       "      <td>6</td>\n",
       "      <td>1</td>\n",
       "      <td>75</td>\n",
       "      <td>7</td>\n",
       "      <td>0</td>\n",
       "      <td>2074</td>\n",
       "    </tr>\n",
       "    <tr>\n",
       "      <th>2</th>\n",
       "      <td>0</td>\n",
       "      <td>1</td>\n",
       "      <td>0</td>\n",
       "      <td>1</td>\n",
       "      <td>5</td>\n",
       "      <td>1</td>\n",
       "      <td>58</td>\n",
       "      <td>18</td>\n",
       "      <td>0</td>\n",
       "      <td>2074</td>\n",
       "    </tr>\n",
       "    <tr>\n",
       "      <th>3</th>\n",
       "      <td>0</td>\n",
       "      <td>1</td>\n",
       "      <td>0</td>\n",
       "      <td>1</td>\n",
       "      <td>5</td>\n",
       "      <td>1</td>\n",
       "      <td>22</td>\n",
       "      <td>31</td>\n",
       "      <td>0</td>\n",
       "      <td>53</td>\n",
       "    </tr>\n",
       "    <tr>\n",
       "      <th>4</th>\n",
       "      <td>0</td>\n",
       "      <td>1</td>\n",
       "      <td>1</td>\n",
       "      <td>1</td>\n",
       "      <td>5</td>\n",
       "      <td>1</td>\n",
       "      <td>51</td>\n",
       "      <td>16</td>\n",
       "      <td>0</td>\n",
       "      <td>2074</td>\n",
       "    </tr>\n",
       "    <tr>\n",
       "      <th>...</th>\n",
       "      <td>...</td>\n",
       "      <td>...</td>\n",
       "      <td>...</td>\n",
       "      <td>...</td>\n",
       "      <td>...</td>\n",
       "      <td>...</td>\n",
       "      <td>...</td>\n",
       "      <td>...</td>\n",
       "      <td>...</td>\n",
       "      <td>...</td>\n",
       "    </tr>\n",
       "    <tr>\n",
       "      <th>17875</th>\n",
       "      <td>0</td>\n",
       "      <td>1</td>\n",
       "      <td>1</td>\n",
       "      <td>1</td>\n",
       "      <td>5</td>\n",
       "      <td>1</td>\n",
       "      <td>22</td>\n",
       "      <td>31</td>\n",
       "      <td>0</td>\n",
       "      <td>2074</td>\n",
       "    </tr>\n",
       "    <tr>\n",
       "      <th>17876</th>\n",
       "      <td>0</td>\n",
       "      <td>1</td>\n",
       "      <td>1</td>\n",
       "      <td>1</td>\n",
       "      <td>5</td>\n",
       "      <td>1</td>\n",
       "      <td>61</td>\n",
       "      <td>0</td>\n",
       "      <td>0</td>\n",
       "      <td>1414</td>\n",
       "    </tr>\n",
       "    <tr>\n",
       "      <th>17877</th>\n",
       "      <td>0</td>\n",
       "      <td>0</td>\n",
       "      <td>0</td>\n",
       "      <td>1</td>\n",
       "      <td>5</td>\n",
       "      <td>1</td>\n",
       "      <td>58</td>\n",
       "      <td>18</td>\n",
       "      <td>0</td>\n",
       "      <td>2074</td>\n",
       "    </tr>\n",
       "    <tr>\n",
       "      <th>17878</th>\n",
       "      <td>0</td>\n",
       "      <td>0</td>\n",
       "      <td>1</td>\n",
       "      <td>0</td>\n",
       "      <td>6</td>\n",
       "      <td>6</td>\n",
       "      <td>48</td>\n",
       "      <td>9</td>\n",
       "      <td>0</td>\n",
       "      <td>2074</td>\n",
       "    </tr>\n",
       "    <tr>\n",
       "      <th>17879</th>\n",
       "      <td>0</td>\n",
       "      <td>1</td>\n",
       "      <td>1</td>\n",
       "      <td>1</td>\n",
       "      <td>5</td>\n",
       "      <td>1</td>\n",
       "      <td>22</td>\n",
       "      <td>12</td>\n",
       "      <td>0</td>\n",
       "      <td>2074</td>\n",
       "    </tr>\n",
       "  </tbody>\n",
       "</table>\n",
       "<p>17880 rows × 10 columns</p>\n",
       "</div>"
      ],
      "text/plain": [
       "       telecommuting  has_company_logo  has_questions  employment_type  \\\n",
       "0                  0                 1              0                2   \n",
       "1                  0                 1              0                1   \n",
       "2                  0                 1              0                1   \n",
       "3                  0                 1              0                1   \n",
       "4                  0                 1              1                1   \n",
       "...              ...               ...            ...              ...   \n",
       "17875              0                 1              1                1   \n",
       "17876              0                 1              1                1   \n",
       "17877              0                 0              0                1   \n",
       "17878              0                 0              1                0   \n",
       "17879              0                 1              1                1   \n",
       "\n",
       "       required_experience  required_education  industry  function  \\\n",
       "0                        4                   1        58        22   \n",
       "1                        6                   1        75         7   \n",
       "2                        5                   1        58        18   \n",
       "3                        5                   1        22        31   \n",
       "4                        5                   1        51        16   \n",
       "...                    ...                 ...       ...       ...   \n",
       "17875                    5                   1        22        31   \n",
       "17876                    5                   1        61         0   \n",
       "17877                    5                   1        58        18   \n",
       "17878                    6                   6        48         9   \n",
       "17879                    5                   1        22        12   \n",
       "\n",
       "       fraudulent  data  \n",
       "0               0  2074  \n",
       "1               0  2074  \n",
       "2               0  2074  \n",
       "3               0    53  \n",
       "4               0  2074  \n",
       "...           ...   ...  \n",
       "17875           0  2074  \n",
       "17876           0  1414  \n",
       "17877           0  2074  \n",
       "17878           0  2074  \n",
       "17879           0  2074  \n",
       "\n",
       "[17880 rows x 10 columns]"
      ]
     },
     "execution_count": 21,
     "metadata": {},
     "output_type": "execute_result"
    }
   ],
   "source": [
    "df"
   ]
  },
  {
   "cell_type": "code",
   "execution_count": 22,
   "id": "d33a1b48",
   "metadata": {
    "execution": {
     "iopub.execute_input": "2022-04-30T16:15:41.957409Z",
     "iopub.status.busy": "2022-04-30T16:15:41.956877Z",
     "iopub.status.idle": "2022-04-30T16:15:41.960801Z",
     "shell.execute_reply": "2022-04-30T16:15:41.960137Z"
    },
    "id": "tAZ2ngYi3la3",
    "papermill": {
     "duration": 0.066573,
     "end_time": "2022-04-30T16:15:41.962753",
     "exception": false,
     "start_time": "2022-04-30T16:15:41.896180",
     "status": "completed"
    },
    "tags": []
   },
   "outputs": [],
   "source": [
    "y=df['fraudulent']"
   ]
  },
  {
   "cell_type": "code",
   "execution_count": 23,
   "id": "aa61a39e",
   "metadata": {
    "execution": {
     "iopub.execute_input": "2022-04-30T16:15:42.082322Z",
     "iopub.status.busy": "2022-04-30T16:15:42.081773Z",
     "iopub.status.idle": "2022-04-30T16:15:42.087604Z",
     "shell.execute_reply": "2022-04-30T16:15:42.086844Z"
    },
    "id": "R4vzbTpL3la3",
    "papermill": {
     "duration": 0.06959,
     "end_time": "2022-04-30T16:15:42.089857",
     "exception": false,
     "start_time": "2022-04-30T16:15:42.020267",
     "status": "completed"
    },
    "tags": []
   },
   "outputs": [],
   "source": [
    "#drop fradulent to use it as label\n",
    "x=df.drop(['fraudulent'],axis=1)"
   ]
  },
  {
   "cell_type": "code",
   "execution_count": 24,
   "id": "6ad71d52",
   "metadata": {
    "execution": {
     "iopub.execute_input": "2022-04-30T16:15:42.210347Z",
     "iopub.status.busy": "2022-04-30T16:15:42.209392Z",
     "iopub.status.idle": "2022-04-30T16:15:42.219553Z",
     "shell.execute_reply": "2022-04-30T16:15:42.218648Z"
    },
    "id": "XaUTH0-M3la4",
    "papermill": {
     "duration": 0.072562,
     "end_time": "2022-04-30T16:15:42.221894",
     "exception": false,
     "start_time": "2022-04-30T16:15:42.149332",
     "status": "completed"
    },
    "tags": []
   },
   "outputs": [],
   "source": [
    "#divide the data into train and test\n",
    "from sklearn.model_selection import train_test_split\n",
    "x_train, X_rem, y_train, y_rem = train_test_split(x,y, train_size=0.8)\n",
    "x_valid, x_test, y_valid, y_test = train_test_split(X_rem,y_rem, test_size=0.5)\n"
   ]
  },
  {
   "cell_type": "code",
   "execution_count": 25,
   "id": "c3a721eb",
   "metadata": {
    "execution": {
     "iopub.execute_input": "2022-04-30T16:15:42.344883Z",
     "iopub.status.busy": "2022-04-30T16:15:42.344582Z",
     "iopub.status.idle": "2022-04-30T16:15:42.357622Z",
     "shell.execute_reply": "2022-04-30T16:15:42.356702Z"
    },
    "id": "MPQdgbkD4onu",
    "papermill": {
     "duration": 0.077541,
     "end_time": "2022-04-30T16:15:42.359981",
     "exception": false,
     "start_time": "2022-04-30T16:15:42.282440",
     "status": "completed"
    },
    "tags": []
   },
   "outputs": [],
   "source": [
    "#tranform the train,validation,test\n",
    "from sklearn.preprocessing import StandardScaler\n",
    "sc = StandardScaler()\n",
    "x_train = sc.fit_transform(x_train) \n",
    "x_test = sc.transform(x_test)\n",
    "x_valid=sc.transform(x_valid)"
   ]
  },
  {
   "cell_type": "code",
   "execution_count": 26,
   "id": "cf04c4ca",
   "metadata": {
    "execution": {
     "iopub.execute_input": "2022-04-30T16:15:42.478919Z",
     "iopub.status.busy": "2022-04-30T16:15:42.478611Z",
     "iopub.status.idle": "2022-04-30T16:15:42.492809Z",
     "shell.execute_reply": "2022-04-30T16:15:42.492195Z"
    },
    "id": "lLhJBw2H5FDS",
    "outputId": "4bee3dbe-e682-4498-c848-1875b3aadc71",
    "papermill": {
     "duration": 0.077141,
     "end_time": "2022-04-30T16:15:42.494953",
     "exception": false,
     "start_time": "2022-04-30T16:15:42.417812",
     "status": "completed"
    },
    "tags": []
   },
   "outputs": [
    {
     "data": {
      "text/plain": [
       "GaussianNB()"
      ]
     },
     "execution_count": 26,
     "metadata": {},
     "output_type": "execute_result"
    }
   ],
   "source": [
    "#naive bayes classifier\n",
    "from sklearn.naive_bayes import GaussianNB\n",
    "classifier = GaussianNB()\n",
    "classifier.fit(x_train, y_train)"
   ]
  },
  {
   "cell_type": "code",
   "execution_count": 27,
   "id": "3e8ecd89",
   "metadata": {
    "execution": {
     "iopub.execute_input": "2022-04-30T16:15:42.613766Z",
     "iopub.status.busy": "2022-04-30T16:15:42.613454Z",
     "iopub.status.idle": "2022-04-30T16:15:42.618973Z",
     "shell.execute_reply": "2022-04-30T16:15:42.618007Z"
    },
    "papermill": {
     "duration": 0.067744,
     "end_time": "2022-04-30T16:15:42.621058",
     "exception": false,
     "start_time": "2022-04-30T16:15:42.553314",
     "status": "completed"
    },
    "tags": []
   },
   "outputs": [],
   "source": [
    "y_validationdata= classifier.predict(x_valid)"
   ]
  },
  {
   "cell_type": "code",
   "execution_count": 28,
   "id": "366c3ae5",
   "metadata": {
    "execution": {
     "iopub.execute_input": "2022-04-30T16:15:42.740599Z",
     "iopub.status.busy": "2022-04-30T16:15:42.740315Z",
     "iopub.status.idle": "2022-04-30T16:15:42.744995Z",
     "shell.execute_reply": "2022-04-30T16:15:42.744113Z"
    },
    "papermill": {
     "duration": 0.066281,
     "end_time": "2022-04-30T16:15:42.747059",
     "exception": false,
     "start_time": "2022-04-30T16:15:42.680778",
     "status": "completed"
    },
    "tags": []
   },
   "outputs": [],
   "source": [
    "#fitting on validation data\n",
    "naive_df1=pd.DataFrame({'actual':y_valid,\n",
    "                    'predicted':y_validationdata})"
   ]
  },
  {
   "cell_type": "code",
   "execution_count": 29,
   "id": "81bbf6f4",
   "metadata": {
    "execution": {
     "iopub.execute_input": "2022-04-30T16:15:42.865378Z",
     "iopub.status.busy": "2022-04-30T16:15:42.864839Z",
     "iopub.status.idle": "2022-04-30T16:15:42.875248Z",
     "shell.execute_reply": "2022-04-30T16:15:42.874629Z"
    },
    "papermill": {
     "duration": 0.071741,
     "end_time": "2022-04-30T16:15:42.877093",
     "exception": false,
     "start_time": "2022-04-30T16:15:42.805352",
     "status": "completed"
    },
    "tags": []
   },
   "outputs": [
    {
     "data": {
      "text/html": [
       "<div>\n",
       "<style scoped>\n",
       "    .dataframe tbody tr th:only-of-type {\n",
       "        vertical-align: middle;\n",
       "    }\n",
       "\n",
       "    .dataframe tbody tr th {\n",
       "        vertical-align: top;\n",
       "    }\n",
       "\n",
       "    .dataframe thead th {\n",
       "        text-align: right;\n",
       "    }\n",
       "</style>\n",
       "<table border=\"1\" class=\"dataframe\">\n",
       "  <thead>\n",
       "    <tr style=\"text-align: right;\">\n",
       "      <th></th>\n",
       "      <th>actual</th>\n",
       "      <th>predicted</th>\n",
       "    </tr>\n",
       "  </thead>\n",
       "  <tbody>\n",
       "    <tr>\n",
       "      <th>3878</th>\n",
       "      <td>0</td>\n",
       "      <td>0</td>\n",
       "    </tr>\n",
       "    <tr>\n",
       "      <th>12020</th>\n",
       "      <td>0</td>\n",
       "      <td>0</td>\n",
       "    </tr>\n",
       "    <tr>\n",
       "      <th>14235</th>\n",
       "      <td>0</td>\n",
       "      <td>0</td>\n",
       "    </tr>\n",
       "    <tr>\n",
       "      <th>17252</th>\n",
       "      <td>0</td>\n",
       "      <td>0</td>\n",
       "    </tr>\n",
       "    <tr>\n",
       "      <th>16608</th>\n",
       "      <td>0</td>\n",
       "      <td>0</td>\n",
       "    </tr>\n",
       "    <tr>\n",
       "      <th>...</th>\n",
       "      <td>...</td>\n",
       "      <td>...</td>\n",
       "    </tr>\n",
       "    <tr>\n",
       "      <th>3197</th>\n",
       "      <td>0</td>\n",
       "      <td>0</td>\n",
       "    </tr>\n",
       "    <tr>\n",
       "      <th>8174</th>\n",
       "      <td>0</td>\n",
       "      <td>0</td>\n",
       "    </tr>\n",
       "    <tr>\n",
       "      <th>3840</th>\n",
       "      <td>0</td>\n",
       "      <td>0</td>\n",
       "    </tr>\n",
       "    <tr>\n",
       "      <th>10492</th>\n",
       "      <td>0</td>\n",
       "      <td>0</td>\n",
       "    </tr>\n",
       "    <tr>\n",
       "      <th>3413</th>\n",
       "      <td>0</td>\n",
       "      <td>0</td>\n",
       "    </tr>\n",
       "  </tbody>\n",
       "</table>\n",
       "<p>1788 rows × 2 columns</p>\n",
       "</div>"
      ],
      "text/plain": [
       "       actual  predicted\n",
       "3878        0          0\n",
       "12020       0          0\n",
       "14235       0          0\n",
       "17252       0          0\n",
       "16608       0          0\n",
       "...       ...        ...\n",
       "3197        0          0\n",
       "8174        0          0\n",
       "3840        0          0\n",
       "10492       0          0\n",
       "3413        0          0\n",
       "\n",
       "[1788 rows x 2 columns]"
      ]
     },
     "execution_count": 29,
     "metadata": {},
     "output_type": "execute_result"
    }
   ],
   "source": [
    "naive_df1"
   ]
  },
  {
   "cell_type": "code",
   "execution_count": 30,
   "id": "3c6d2747",
   "metadata": {
    "execution": {
     "iopub.execute_input": "2022-04-30T16:15:42.997702Z",
     "iopub.status.busy": "2022-04-30T16:15:42.997418Z",
     "iopub.status.idle": "2022-04-30T16:15:43.002337Z",
     "shell.execute_reply": "2022-04-30T16:15:43.001487Z"
    },
    "id": "T2S4sk0w5N9U",
    "papermill": {
     "duration": 0.066964,
     "end_time": "2022-04-30T16:15:43.004440",
     "exception": false,
     "start_time": "2022-04-30T16:15:42.937476",
     "status": "completed"
    },
    "tags": []
   },
   "outputs": [],
   "source": [
    "y_pred_NB  =  classifier.predict(x_test)"
   ]
  },
  {
   "cell_type": "code",
   "execution_count": 31,
   "id": "ce29661b",
   "metadata": {
    "execution": {
     "iopub.execute_input": "2022-04-30T16:15:43.124726Z",
     "iopub.status.busy": "2022-04-30T16:15:43.124435Z",
     "iopub.status.idle": "2022-04-30T16:15:43.129327Z",
     "shell.execute_reply": "2022-04-30T16:15:43.128394Z"
    },
    "id": "7x7_cHMB5REE",
    "papermill": {
     "duration": 0.068061,
     "end_time": "2022-04-30T16:15:43.131441",
     "exception": false,
     "start_time": "2022-04-30T16:15:43.063380",
     "status": "completed"
    },
    "tags": []
   },
   "outputs": [],
   "source": [
    "naive_df=pd.DataFrame({'actual':y_test,\n",
    "                    'predicted':y_pred_NB})"
   ]
  },
  {
   "cell_type": "code",
   "execution_count": 32,
   "id": "c69ad043",
   "metadata": {
    "execution": {
     "iopub.execute_input": "2022-04-30T16:15:43.251647Z",
     "iopub.status.busy": "2022-04-30T16:15:43.251351Z",
     "iopub.status.idle": "2022-04-30T16:15:43.259695Z",
     "shell.execute_reply": "2022-04-30T16:15:43.259045Z"
    },
    "id": "xCBRnDP-5Zar",
    "outputId": "a6bd23a0-34cb-4565-d90e-6226248bdc05",
    "papermill": {
     "duration": 0.070393,
     "end_time": "2022-04-30T16:15:43.261711",
     "exception": false,
     "start_time": "2022-04-30T16:15:43.191318",
     "status": "completed"
    },
    "tags": []
   },
   "outputs": [],
   "source": [
    "#prediction\n",
    "naive_df\n",
    "\n",
    "#build accuracy score,confusion matrix\n",
    "from sklearn.metrics import confusion_matrix,accuracy_score\n",
    "cm = confusion_matrix(y_test, y_pred_NB)\n",
    "ac = accuracy_score(y_test,y_pred_NB)"
   ]
  },
  {
   "cell_type": "code",
   "execution_count": 33,
   "id": "da1bd2e6",
   "metadata": {
    "execution": {
     "iopub.execute_input": "2022-04-30T16:15:43.381893Z",
     "iopub.status.busy": "2022-04-30T16:15:43.381361Z",
     "iopub.status.idle": "2022-04-30T16:15:43.386367Z",
     "shell.execute_reply": "2022-04-30T16:15:43.385254Z"
    },
    "papermill": {
     "duration": 0.067638,
     "end_time": "2022-04-30T16:15:43.388674",
     "exception": false,
     "start_time": "2022-04-30T16:15:43.321036",
     "status": "completed"
    },
    "tags": []
   },
   "outputs": [
    {
     "name": "stdout",
     "output_type": "stream",
     "text": [
      "accuracy_score 0.9183445190156599\n"
     ]
    }
   ],
   "source": [
    "print(\"accuracy_score\",ac)"
   ]
  },
  {
   "cell_type": "code",
   "execution_count": 34,
   "id": "0da48fcc",
   "metadata": {
    "execution": {
     "iopub.execute_input": "2022-04-30T16:15:43.509681Z",
     "iopub.status.busy": "2022-04-30T16:15:43.509362Z",
     "iopub.status.idle": "2022-04-30T16:15:43.514569Z",
     "shell.execute_reply": "2022-04-30T16:15:43.513668Z"
    },
    "papermill": {
     "duration": 0.068597,
     "end_time": "2022-04-30T16:15:43.516746",
     "exception": false,
     "start_time": "2022-04-30T16:15:43.448149",
     "status": "completed"
    },
    "tags": []
   },
   "outputs": [
    {
     "name": "stdout",
     "output_type": "stream",
     "text": [
      "confusion matrix\n",
      " [[1630   62]\n",
      " [  84   12]]\n"
     ]
    }
   ],
   "source": [
    "print(\"confusion matrix\\n\",cm)"
   ]
  },
  {
   "cell_type": "code",
   "execution_count": 35,
   "id": "a2db117d",
   "metadata": {
    "execution": {
     "iopub.execute_input": "2022-04-30T16:15:43.640227Z",
     "iopub.status.busy": "2022-04-30T16:15:43.639911Z",
     "iopub.status.idle": "2022-04-30T16:15:43.645971Z",
     "shell.execute_reply": "2022-04-30T16:15:43.645286Z"
    },
    "papermill": {
     "duration": 0.071251,
     "end_time": "2022-04-30T16:15:43.647818",
     "exception": false,
     "start_time": "2022-04-30T16:15:43.576567",
     "status": "completed"
    },
    "tags": []
   },
   "outputs": [],
   "source": [
    "#probability of the class\n",
    "p1=(cm[0][0]+cm[0][1])/(cm[0][0]+cm[0][1]+cm[1][1]+cm[1][0])\n",
    "p2= (cm[1][0]+cm[1][1])/(cm[0][0]+cm[0][1]+cm[1][0]+cm[1][1])\n"
   ]
  },
  {
   "cell_type": "code",
   "execution_count": 36,
   "id": "050e0e1e",
   "metadata": {
    "execution": {
     "iopub.execute_input": "2022-04-30T16:15:43.771112Z",
     "iopub.status.busy": "2022-04-30T16:15:43.770030Z",
     "iopub.status.idle": "2022-04-30T16:15:43.776746Z",
     "shell.execute_reply": "2022-04-30T16:15:43.775602Z"
    },
    "id": "uFwY2Smv5iCm",
    "outputId": "73ec8317-1db9-4a41-e241-7766bab3a104",
    "papermill": {
     "duration": 0.070313,
     "end_time": "2022-04-30T16:15:43.778805",
     "exception": false,
     "start_time": "2022-04-30T16:15:43.708492",
     "status": "completed"
    },
    "tags": []
   },
   "outputs": [
    {
     "name": "stdout",
     "output_type": "stream",
     "text": [
      "Probability of class1 0.9463087248322147\n",
      "Probability of class2 0.053691275167785234\n",
      "Final Accuracy 0.9183445190156599\n"
     ]
    }
   ],
   "source": [
    "print(\"Probability of class1\",p1)\n",
    "print(\"Probability of class2\",p2)\n",
    "print(\"Final Accuracy\",ac)"
   ]
  },
  {
   "cell_type": "code",
   "execution_count": 37,
   "id": "22cceb42",
   "metadata": {
    "execution": {
     "iopub.execute_input": "2022-04-30T16:15:43.901778Z",
     "iopub.status.busy": "2022-04-30T16:15:43.901041Z",
     "iopub.status.idle": "2022-04-30T16:15:43.906533Z",
     "shell.execute_reply": "2022-04-30T16:15:43.905657Z"
    },
    "id": "ZAIFGyg75i2m",
    "outputId": "d720b9f6-19f1-469e-dff4-9ce210e1e7ad",
    "papermill": {
     "duration": 0.06864,
     "end_time": "2022-04-30T16:15:43.908510",
     "exception": false,
     "start_time": "2022-04-30T16:15:43.839870",
     "status": "completed"
    },
    "tags": []
   },
   "outputs": [
    {
     "data": {
      "text/plain": [
       "array([[1630,   62],\n",
       "       [  84,   12]])"
      ]
     },
     "execution_count": 37,
     "metadata": {},
     "output_type": "execute_result"
    }
   ],
   "source": [
    "cm"
   ]
  },
  {
   "cell_type": "code",
   "execution_count": 38,
   "id": "0dbe687a",
   "metadata": {
    "execution": {
     "iopub.execute_input": "2022-04-30T16:15:44.033825Z",
     "iopub.status.busy": "2022-04-30T16:15:44.032927Z",
     "iopub.status.idle": "2022-04-30T16:15:44.037749Z",
     "shell.execute_reply": "2022-04-30T16:15:44.036733Z"
    },
    "papermill": {
     "duration": 0.070763,
     "end_time": "2022-04-30T16:15:44.039955",
     "exception": false,
     "start_time": "2022-04-30T16:15:43.969192",
     "status": "completed"
    },
    "tags": []
   },
   "outputs": [],
   "source": [
    "#from sklearn.tree import DecisionTreeClassifier\n",
    "#clf_entropy = DecisionTreeClassifier(\n",
    " #          criterion = \"entropy\", random_state = 100,\n",
    "  #        max_depth = 3, min_samples_leaf = 5)\n",
    "#clf_entropy.fit(x_train, y_train)\n"
   ]
  },
  {
   "cell_type": "code",
   "execution_count": 39,
   "id": "47015df8",
   "metadata": {
    "execution": {
     "iopub.execute_input": "2022-04-30T16:15:44.165147Z",
     "iopub.status.busy": "2022-04-30T16:15:44.164869Z",
     "iopub.status.idle": "2022-04-30T16:15:44.277522Z",
     "shell.execute_reply": "2022-04-30T16:15:44.276464Z"
    },
    "papermill": {
     "duration": 0.178064,
     "end_time": "2022-04-30T16:15:44.279773",
     "exception": false,
     "start_time": "2022-04-30T16:15:44.101709",
     "status": "completed"
    },
    "tags": []
   },
   "outputs": [
    {
     "data": {
      "text/plain": [
       "DecisionTreeClassifier(max_depth=10, min_samples_leaf=10, random_state=120)"
      ]
     },
     "execution_count": 39,
     "metadata": {},
     "output_type": "execute_result"
    }
   ],
   "source": [
    "from sklearn.tree import DecisionTreeClassifier\n",
    "clf_entropy = DecisionTreeClassifier(\n",
    "           criterion = \"gini\", random_state = 120,\n",
    "          max_depth = 10, min_samples_leaf = 10)\n",
    "clf_entropy.fit(x_train, y_train)"
   ]
  },
  {
   "cell_type": "code",
   "execution_count": 40,
   "id": "afdf0360",
   "metadata": {
    "execution": {
     "iopub.execute_input": "2022-04-30T16:15:44.406713Z",
     "iopub.status.busy": "2022-04-30T16:15:44.406248Z",
     "iopub.status.idle": "2022-04-30T16:15:44.410888Z",
     "shell.execute_reply": "2022-04-30T16:15:44.410304Z"
    },
    "papermill": {
     "duration": 0.069458,
     "end_time": "2022-04-30T16:15:44.412781",
     "exception": false,
     "start_time": "2022-04-30T16:15:44.343323",
     "status": "completed"
    },
    "tags": []
   },
   "outputs": [],
   "source": [
    "y_pred_DT  =  clf_entropy.predict(x_test)"
   ]
  },
  {
   "cell_type": "code",
   "execution_count": 41,
   "id": "fa02d868",
   "metadata": {
    "execution": {
     "iopub.execute_input": "2022-04-30T16:15:44.539089Z",
     "iopub.status.busy": "2022-04-30T16:15:44.538813Z",
     "iopub.status.idle": "2022-04-30T16:15:44.543863Z",
     "shell.execute_reply": "2022-04-30T16:15:44.542953Z"
    },
    "papermill": {
     "duration": 0.07025,
     "end_time": "2022-04-30T16:15:44.545695",
     "exception": false,
     "start_time": "2022-04-30T16:15:44.475445",
     "status": "completed"
    },
    "tags": []
   },
   "outputs": [],
   "source": [
    "dt_df=pd.DataFrame({'actual':y_test,\n",
    "                    'predicted':y_pred_DT})"
   ]
  },
  {
   "cell_type": "code",
   "execution_count": 42,
   "id": "3b8b78a1",
   "metadata": {
    "execution": {
     "iopub.execute_input": "2022-04-30T16:15:44.670032Z",
     "iopub.status.busy": "2022-04-30T16:15:44.669536Z",
     "iopub.status.idle": "2022-04-30T16:15:44.678819Z",
     "shell.execute_reply": "2022-04-30T16:15:44.678236Z"
    },
    "papermill": {
     "duration": 0.073768,
     "end_time": "2022-04-30T16:15:44.680608",
     "exception": false,
     "start_time": "2022-04-30T16:15:44.606840",
     "status": "completed"
    },
    "tags": []
   },
   "outputs": [
    {
     "data": {
      "text/html": [
       "<div>\n",
       "<style scoped>\n",
       "    .dataframe tbody tr th:only-of-type {\n",
       "        vertical-align: middle;\n",
       "    }\n",
       "\n",
       "    .dataframe tbody tr th {\n",
       "        vertical-align: top;\n",
       "    }\n",
       "\n",
       "    .dataframe thead th {\n",
       "        text-align: right;\n",
       "    }\n",
       "</style>\n",
       "<table border=\"1\" class=\"dataframe\">\n",
       "  <thead>\n",
       "    <tr style=\"text-align: right;\">\n",
       "      <th></th>\n",
       "      <th>actual</th>\n",
       "      <th>predicted</th>\n",
       "    </tr>\n",
       "  </thead>\n",
       "  <tbody>\n",
       "    <tr>\n",
       "      <th>13743</th>\n",
       "      <td>0</td>\n",
       "      <td>0</td>\n",
       "    </tr>\n",
       "    <tr>\n",
       "      <th>13844</th>\n",
       "      <td>0</td>\n",
       "      <td>0</td>\n",
       "    </tr>\n",
       "    <tr>\n",
       "      <th>4544</th>\n",
       "      <td>0</td>\n",
       "      <td>0</td>\n",
       "    </tr>\n",
       "    <tr>\n",
       "      <th>2858</th>\n",
       "      <td>0</td>\n",
       "      <td>0</td>\n",
       "    </tr>\n",
       "    <tr>\n",
       "      <th>8857</th>\n",
       "      <td>0</td>\n",
       "      <td>0</td>\n",
       "    </tr>\n",
       "    <tr>\n",
       "      <th>...</th>\n",
       "      <td>...</td>\n",
       "      <td>...</td>\n",
       "    </tr>\n",
       "    <tr>\n",
       "      <th>2100</th>\n",
       "      <td>0</td>\n",
       "      <td>0</td>\n",
       "    </tr>\n",
       "    <tr>\n",
       "      <th>10770</th>\n",
       "      <td>0</td>\n",
       "      <td>0</td>\n",
       "    </tr>\n",
       "    <tr>\n",
       "      <th>2650</th>\n",
       "      <td>0</td>\n",
       "      <td>0</td>\n",
       "    </tr>\n",
       "    <tr>\n",
       "      <th>10278</th>\n",
       "      <td>0</td>\n",
       "      <td>0</td>\n",
       "    </tr>\n",
       "    <tr>\n",
       "      <th>9619</th>\n",
       "      <td>0</td>\n",
       "      <td>0</td>\n",
       "    </tr>\n",
       "  </tbody>\n",
       "</table>\n",
       "<p>1788 rows × 2 columns</p>\n",
       "</div>"
      ],
      "text/plain": [
       "       actual  predicted\n",
       "13743       0          0\n",
       "13844       0          0\n",
       "4544        0          0\n",
       "2858        0          0\n",
       "8857        0          0\n",
       "...       ...        ...\n",
       "2100        0          0\n",
       "10770       0          0\n",
       "2650        0          0\n",
       "10278       0          0\n",
       "9619        0          0\n",
       "\n",
       "[1788 rows x 2 columns]"
      ]
     },
     "execution_count": 42,
     "metadata": {},
     "output_type": "execute_result"
    }
   ],
   "source": [
    "dt_df"
   ]
  },
  {
   "cell_type": "code",
   "execution_count": 43,
   "id": "b8be03fc",
   "metadata": {
    "execution": {
     "iopub.execute_input": "2022-04-30T16:15:44.804943Z",
     "iopub.status.busy": "2022-04-30T16:15:44.804425Z",
     "iopub.status.idle": "2022-04-30T16:15:44.809315Z",
     "shell.execute_reply": "2022-04-30T16:15:44.808757Z"
    },
    "papermill": {
     "duration": 0.069939,
     "end_time": "2022-04-30T16:15:44.811544",
     "exception": false,
     "start_time": "2022-04-30T16:15:44.741605",
     "status": "completed"
    },
    "tags": []
   },
   "outputs": [
    {
     "name": "stdout",
     "output_type": "stream",
     "text": [
      "Accuracy of Decision Tree is 0.9546979865771812\n"
     ]
    }
   ],
   "source": [
    "#accuracy for decision tree\n",
    "ac1 = accuracy_score(y_test,y_pred_DT)\n",
    "print(\"Accuracy of Decision Tree is\",ac1)"
   ]
  },
  {
   "cell_type": "code",
   "execution_count": 44,
   "id": "defaa9dd",
   "metadata": {
    "execution": {
     "iopub.execute_input": "2022-04-30T16:15:44.938280Z",
     "iopub.status.busy": "2022-04-30T16:15:44.937762Z",
     "iopub.status.idle": "2022-04-30T16:15:44.940856Z",
     "shell.execute_reply": "2022-04-30T16:15:44.940224Z"
    },
    "papermill": {
     "duration": 0.068125,
     "end_time": "2022-04-30T16:15:44.942618",
     "exception": false,
     "start_time": "2022-04-30T16:15:44.874493",
     "status": "completed"
    },
    "tags": []
   },
   "outputs": [],
   "source": [
    "#from sklearn.svm import SVC\n",
    "#clf_svm = SVC(kernel='linear')\n",
    "#clf_svm.fit(x_train, y_train)\n"
   ]
  },
  {
   "cell_type": "code",
   "execution_count": 45,
   "id": "9a500e86",
   "metadata": {
    "execution": {
     "iopub.execute_input": "2022-04-30T16:15:45.069747Z",
     "iopub.status.busy": "2022-04-30T16:15:45.069218Z",
     "iopub.status.idle": "2022-04-30T16:15:47.955225Z",
     "shell.execute_reply": "2022-04-30T16:15:47.954374Z"
    },
    "papermill": {
     "duration": 2.95349,
     "end_time": "2022-04-30T16:15:47.957284",
     "exception": false,
     "start_time": "2022-04-30T16:15:45.003794",
     "status": "completed"
    },
    "tags": []
   },
   "outputs": [
    {
     "data": {
      "text/plain": [
       "SVC(kernel='poly')"
      ]
     },
     "execution_count": 45,
     "metadata": {},
     "output_type": "execute_result"
    }
   ],
   "source": [
    "from sklearn.svm import SVC\n",
    "clf_svm = SVC(kernel='poly')\n",
    "clf_svm.fit(x_train, y_train)\n"
   ]
  },
  {
   "cell_type": "code",
   "execution_count": 46,
   "id": "4eb8d977",
   "metadata": {
    "execution": {
     "iopub.execute_input": "2022-04-30T16:15:48.084659Z",
     "iopub.status.busy": "2022-04-30T16:15:48.084390Z",
     "iopub.status.idle": "2022-04-30T16:15:48.087637Z",
     "shell.execute_reply": "2022-04-30T16:15:48.087047Z"
    },
    "papermill": {
     "duration": 0.069269,
     "end_time": "2022-04-30T16:15:48.089385",
     "exception": false,
     "start_time": "2022-04-30T16:15:48.020116",
     "status": "completed"
    },
    "tags": []
   },
   "outputs": [],
   "source": [
    "#from sklearn.svm import SVC\n",
    "#clf_svm = SVC(kernel='sigmoid')\n",
    "#clf_svm.fit(x_train, y_train)\n"
   ]
  },
  {
   "cell_type": "code",
   "execution_count": 47,
   "id": "9e5512c6",
   "metadata": {
    "execution": {
     "iopub.execute_input": "2022-04-30T16:15:48.213709Z",
     "iopub.status.busy": "2022-04-30T16:15:48.213192Z",
     "iopub.status.idle": "2022-04-30T16:15:48.293118Z",
     "shell.execute_reply": "2022-04-30T16:15:48.292393Z"
    },
    "papermill": {
     "duration": 0.144667,
     "end_time": "2022-04-30T16:15:48.295380",
     "exception": false,
     "start_time": "2022-04-30T16:15:48.150713",
     "status": "completed"
    },
    "tags": []
   },
   "outputs": [],
   "source": [
    "# testing the model\n",
    "y_pred_SVM = clf_svm.predict(x_test)"
   ]
  },
  {
   "cell_type": "code",
   "execution_count": 48,
   "id": "21728783",
   "metadata": {
    "execution": {
     "iopub.execute_input": "2022-04-30T16:15:48.420424Z",
     "iopub.status.busy": "2022-04-30T16:15:48.419607Z",
     "iopub.status.idle": "2022-04-30T16:15:48.424311Z",
     "shell.execute_reply": "2022-04-30T16:15:48.423709Z"
    },
    "papermill": {
     "duration": 0.069146,
     "end_time": "2022-04-30T16:15:48.426360",
     "exception": false,
     "start_time": "2022-04-30T16:15:48.357214",
     "status": "completed"
    },
    "tags": []
   },
   "outputs": [],
   "source": [
    "svm_df=pd.DataFrame({'actual':y_test,\n",
    "                    'predicted':y_pred_SVM})"
   ]
  },
  {
   "cell_type": "code",
   "execution_count": 49,
   "id": "a36d1466",
   "metadata": {
    "execution": {
     "iopub.execute_input": "2022-04-30T16:15:48.551049Z",
     "iopub.status.busy": "2022-04-30T16:15:48.550626Z",
     "iopub.status.idle": "2022-04-30T16:15:48.561583Z",
     "shell.execute_reply": "2022-04-30T16:15:48.560783Z"
    },
    "papermill": {
     "duration": 0.075591,
     "end_time": "2022-04-30T16:15:48.563520",
     "exception": false,
     "start_time": "2022-04-30T16:15:48.487929",
     "status": "completed"
    },
    "tags": []
   },
   "outputs": [
    {
     "data": {
      "text/html": [
       "<div>\n",
       "<style scoped>\n",
       "    .dataframe tbody tr th:only-of-type {\n",
       "        vertical-align: middle;\n",
       "    }\n",
       "\n",
       "    .dataframe tbody tr th {\n",
       "        vertical-align: top;\n",
       "    }\n",
       "\n",
       "    .dataframe thead th {\n",
       "        text-align: right;\n",
       "    }\n",
       "</style>\n",
       "<table border=\"1\" class=\"dataframe\">\n",
       "  <thead>\n",
       "    <tr style=\"text-align: right;\">\n",
       "      <th></th>\n",
       "      <th>actual</th>\n",
       "      <th>predicted</th>\n",
       "    </tr>\n",
       "  </thead>\n",
       "  <tbody>\n",
       "    <tr>\n",
       "      <th>13743</th>\n",
       "      <td>0</td>\n",
       "      <td>0</td>\n",
       "    </tr>\n",
       "    <tr>\n",
       "      <th>13844</th>\n",
       "      <td>0</td>\n",
       "      <td>0</td>\n",
       "    </tr>\n",
       "    <tr>\n",
       "      <th>4544</th>\n",
       "      <td>0</td>\n",
       "      <td>0</td>\n",
       "    </tr>\n",
       "    <tr>\n",
       "      <th>2858</th>\n",
       "      <td>0</td>\n",
       "      <td>0</td>\n",
       "    </tr>\n",
       "    <tr>\n",
       "      <th>8857</th>\n",
       "      <td>0</td>\n",
       "      <td>0</td>\n",
       "    </tr>\n",
       "    <tr>\n",
       "      <th>...</th>\n",
       "      <td>...</td>\n",
       "      <td>...</td>\n",
       "    </tr>\n",
       "    <tr>\n",
       "      <th>2100</th>\n",
       "      <td>0</td>\n",
       "      <td>0</td>\n",
       "    </tr>\n",
       "    <tr>\n",
       "      <th>10770</th>\n",
       "      <td>0</td>\n",
       "      <td>0</td>\n",
       "    </tr>\n",
       "    <tr>\n",
       "      <th>2650</th>\n",
       "      <td>0</td>\n",
       "      <td>0</td>\n",
       "    </tr>\n",
       "    <tr>\n",
       "      <th>10278</th>\n",
       "      <td>0</td>\n",
       "      <td>0</td>\n",
       "    </tr>\n",
       "    <tr>\n",
       "      <th>9619</th>\n",
       "      <td>0</td>\n",
       "      <td>0</td>\n",
       "    </tr>\n",
       "  </tbody>\n",
       "</table>\n",
       "<p>1788 rows × 2 columns</p>\n",
       "</div>"
      ],
      "text/plain": [
       "       actual  predicted\n",
       "13743       0          0\n",
       "13844       0          0\n",
       "4544        0          0\n",
       "2858        0          0\n",
       "8857        0          0\n",
       "...       ...        ...\n",
       "2100        0          0\n",
       "10770       0          0\n",
       "2650        0          0\n",
       "10278       0          0\n",
       "9619        0          0\n",
       "\n",
       "[1788 rows x 2 columns]"
      ]
     },
     "execution_count": 49,
     "metadata": {},
     "output_type": "execute_result"
    }
   ],
   "source": [
    "svm_df"
   ]
  },
  {
   "cell_type": "code",
   "execution_count": 50,
   "id": "f327413c",
   "metadata": {
    "execution": {
     "iopub.execute_input": "2022-04-30T16:15:48.690235Z",
     "iopub.status.busy": "2022-04-30T16:15:48.689955Z",
     "iopub.status.idle": "2022-04-30T16:15:48.696848Z",
     "shell.execute_reply": "2022-04-30T16:15:48.695958Z"
    },
    "papermill": {
     "duration": 0.072664,
     "end_time": "2022-04-30T16:15:48.698838",
     "exception": false,
     "start_time": "2022-04-30T16:15:48.626174",
     "status": "completed"
    },
    "tags": []
   },
   "outputs": [
    {
     "data": {
      "text/plain": [
       "0.9491051454138703"
      ]
     },
     "execution_count": 50,
     "metadata": {},
     "output_type": "execute_result"
    }
   ],
   "source": [
    "#accuracy for svm\n",
    "ac2 = accuracy_score(y_test,y_pred_SVM)\n",
    "ac2"
   ]
  },
  {
   "cell_type": "code",
   "execution_count": 51,
   "id": "1f8be2db",
   "metadata": {
    "execution": {
     "iopub.execute_input": "2022-04-30T16:15:48.825404Z",
     "iopub.status.busy": "2022-04-30T16:15:48.824887Z",
     "iopub.status.idle": "2022-04-30T16:15:48.939751Z",
     "shell.execute_reply": "2022-04-30T16:15:48.938751Z"
    },
    "papermill": {
     "duration": 0.18058,
     "end_time": "2022-04-30T16:15:48.942085",
     "exception": false,
     "start_time": "2022-04-30T16:15:48.761505",
     "status": "completed"
    },
    "tags": []
   },
   "outputs": [
    {
     "data": {
      "image/png": "[encoded data removed]",
      "text/plain": [
       "<Figure size 432x288 with 1 Axes>"
      ]
     },
     "metadata": {
      "needs_background": "light"
     },
     "output_type": "display_data"
    }
   ],
   "source": [
    "import matplotlib.pyplot as plt\n",
    "   \n",
    "Classifiers = ['naive Bayes','Decision Tree','SVM']\n",
    "accuarcy = [ac*100,ac1*100,ac2*100]\n",
    "\n",
    "plt.bar(Classifiers,accuarcy)\n",
    "plt.title('performance of Classifiers')\n",
    "plt.xlabel('Classifiers')\n",
    "plt.ylabel('Accuracy')\n",
    "plt.show()"
   ]
  },
  {
   "cell_type": "markdown",
   "id": "5d93b69c",
   "metadata": {
    "papermill": {
     "duration": 0.063337,
     "end_time": "2022-04-30T16:15:49.070214",
     "exception": false,
     "start_time": "2022-04-30T16:15:49.006877",
     "status": "completed"
    },
    "tags": []
   },
   "source": []
  },
  {
   "cell_type": "code",
   "execution_count": null,
   "id": "4fc5c4ad",
   "metadata": {
    "papermill": {
     "duration": 0.064479,
     "end_time": "2022-04-30T16:15:49.198511",
     "exception": false,
     "start_time": "2022-04-30T16:15:49.134032",
     "status": "completed"
    },
    "tags": []
   },
   "outputs": [],
   "source": []
  },
  {
   "cell_type": "code",
   "execution_count": null,
   "id": "268def90",
   "metadata": {
    "papermill": {
     "duration": 0.063802,
     "end_time": "2022-04-30T16:15:49.325385",
     "exception": false,
     "start_time": "2022-04-30T16:15:49.261583",
     "status": "completed"
    },
    "tags": []
   },
   "outputs": [],
   "source": []
  }
 ],
 "metadata": {
  "kernelspec": {
   "display_name": "Python 3",
   "language": "python",
   "name": "python3"
  },
  "language_info": {
   "codemirror_mode": {
    "name": "ipython",
    "version": 3
   },
   "file_extension": ".py",
   "mimetype": "text/x-python",
   "name": "python",
   "nbconvert_exporter": "python",
   "pygments_lexer": "ipython3",
   "version": "3.7.12"
  },
  "papermill": {
   "default_parameters": {},
   "duration": 24.577567,
   "end_time": "2022-04-30T16:15:50.210150",
   "environment_variables": {},
   "exception": null,
   "input_path": "__notebook__.ipynb",
   "output_path": "__notebook__.ipynb",
   "parameters": {},
   "start_time": "2022-04-30T16:15:25.632583",
   "version": "2.3.4"
  }
 },
 "nbformat": 4,
 "nbformat_minor": 5
}
